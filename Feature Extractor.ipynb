{
 "metadata": {
  "name": ""
 },
 "nbformat": 3,
 "nbformat_minor": 0,
 "worksheets": [
  {
   "cells": [
    {
     "cell_type": "code",
     "collapsed": false,
     "input": [
      "import nltk\n",
      "\n",
      "special_chars = ['=','?','[', ']', '/', ',', '.', ';', ':', '{', '}', '|', '(', ')', '_', '*', '@', '!', '#', '$', '%','^','&', '>', '<']\n",
      "\n",
      "\"\"\"\n",
      "* Master function featurize a BeautifulSoup parsed page\n",
      "\"\"\"\n",
      "def featurize(page_string):\n",
      "    #print page_string\n",
      "    bstree = BeautifulSoup(page_string)\n",
      "    tokens = tokenize(bstree)\n",
      "    tokens = strip_specials(tokens)\n",
      "    tokens = lemmatize(tokens)\n",
      "    tokens.extend(bigramize(tokens))\n",
      "    return tokens\n",
      "\n",
      "\"\"\"\n",
      "* Take page and tokenize it\n",
      "\"\"\"\n",
      "def tokenize(page):\n",
      "    body = page.find('body')\n",
      "    tokens = body.text.strip().split()\n",
      "    #print \"Tokens: \", tokens\n",
      "    return tokens\n",
      "\n",
      "\"\"\"\n",
      "* Strip special chararacters from tokens\n",
      "\"\"\"\n",
      "def strip_specials(token_list, char_list=special_chars):\n",
      "    #print char_list\n",
      "    ret = []\n",
      "    #return [ token for char in char_list for token in token_list if char not in token ] # list comp is faster than two fors\n",
      "    for token in token_list:\n",
      "        for char in char_list:\n",
      "            if char in token:\n",
      "                #print \"Found bad token \", char, token\n",
      "                token = token.replace(char,\"\")\n",
      "        if token != '': ret.append(token)\n",
      "    #print ret\n",
      "    return ret\n",
      "\"\"\"\n",
      "* Lemmatize each of the words, removing morphological affixes\n",
      "\"\"\"\n",
      "def lemmatize(tokens_list, same_case=False):\n",
      "    wnl = nltk.WordNetLemmatizer()\n",
      "    if same_case:\n",
      "        return [ wnl.lemmatize(token.lower()) for token in tokens_list ]\n",
      "    else:\n",
      "        return [ wnl.lemmatize(token) for token in tokens_list ]\n",
      "\"\"\"\n",
      "* Extract bigrams from token tokens_list\n",
      "\"\"\"\n",
      "def bigramize(tokens_list):\n",
      "    return nltk.bigrams(tokens_list)"
     ],
     "language": "python",
     "metadata": {},
     "outputs": [],
     "prompt_number": 1
    },
    {
     "cell_type": "code",
     "collapsed": false,
     "input": [
      "from bs4 import BeautifulSoup\n",
      "import requests\n",
      "t1 = requests.get('http://admissions.buffalo.edu/academics/areasofstudy.php')\n",
      "t2 = requests.get('http://undergrad-catalog.buffalo.edu/academicprograms/ger_courses.shtml')\n",
      "p1 = BeautifulSoup(t1._content)\n",
      "p2 = BeautifulSoup(t2._content)"
     ],
     "language": "python",
     "metadata": {},
     "outputs": [],
     "prompt_number": 2
    },
    {
     "cell_type": "code",
     "collapsed": false,
     "input": [
      "#print p.find('body').text.strip()\n",
      "v1 = featurize(p1)\n",
      "v2 = featurize(p2)"
     ],
     "language": "python",
     "metadata": {},
     "outputs": [
      {
       "ename": "TypeError",
       "evalue": "'NoneType' object is not callable",
       "output_type": "pyerr",
       "traceback": [
        "\u001b[0;31m---------------------------------------------------------------------------\u001b[0m\n\u001b[0;31mTypeError\u001b[0m                                 Traceback (most recent call last)",
        "\u001b[0;32m<ipython-input-3-b65330befeec>\u001b[0m in \u001b[0;36m<module>\u001b[0;34m()\u001b[0m\n\u001b[1;32m      1\u001b[0m \u001b[0;31m#print p.find('body').text.strip()\u001b[0m\u001b[0;34m\u001b[0m\u001b[0;34m\u001b[0m\u001b[0m\n\u001b[0;32m----> 2\u001b[0;31m \u001b[0mv1\u001b[0m \u001b[0;34m=\u001b[0m \u001b[0mfeaturize\u001b[0m\u001b[0;34m(\u001b[0m\u001b[0mp1\u001b[0m\u001b[0;34m)\u001b[0m\u001b[0;34m\u001b[0m\u001b[0m\n\u001b[0m\u001b[1;32m      3\u001b[0m \u001b[0mv2\u001b[0m \u001b[0;34m=\u001b[0m \u001b[0mfeaturize\u001b[0m\u001b[0;34m(\u001b[0m\u001b[0mp2\u001b[0m\u001b[0;34m)\u001b[0m\u001b[0;34m\u001b[0m\u001b[0m\n",
        "\u001b[0;32m<ipython-input-1-94bdc5bd145e>\u001b[0m in \u001b[0;36mfeaturize\u001b[0;34m(page_string)\u001b[0m\n\u001b[1;32m      8\u001b[0m \u001b[0;32mdef\u001b[0m \u001b[0mfeaturize\u001b[0m\u001b[0;34m(\u001b[0m\u001b[0mpage_string\u001b[0m\u001b[0;34m)\u001b[0m\u001b[0;34m:\u001b[0m\u001b[0;34m\u001b[0m\u001b[0m\n\u001b[1;32m      9\u001b[0m     \u001b[0;31m#print page_string\u001b[0m\u001b[0;34m\u001b[0m\u001b[0;34m\u001b[0m\u001b[0m\n\u001b[0;32m---> 10\u001b[0;31m     \u001b[0mbstree\u001b[0m \u001b[0;34m=\u001b[0m \u001b[0mBeautifulSoup\u001b[0m\u001b[0;34m(\u001b[0m\u001b[0mpage_string\u001b[0m\u001b[0;34m)\u001b[0m\u001b[0;34m\u001b[0m\u001b[0m\n\u001b[0m\u001b[1;32m     11\u001b[0m     \u001b[0mtokens\u001b[0m \u001b[0;34m=\u001b[0m \u001b[0mtokenize\u001b[0m\u001b[0;34m(\u001b[0m\u001b[0mbstree\u001b[0m\u001b[0;34m)\u001b[0m\u001b[0;34m\u001b[0m\u001b[0m\n\u001b[1;32m     12\u001b[0m     \u001b[0mtokens\u001b[0m \u001b[0;34m=\u001b[0m \u001b[0mstrip_specials\u001b[0m\u001b[0;34m(\u001b[0m\u001b[0mtokens\u001b[0m\u001b[0;34m)\u001b[0m\u001b[0;34m\u001b[0m\u001b[0m\n",
        "\u001b[0;32m/Users/thomaseffland/anaconda/lib/python2.7/site-packages/bs4/__init__.pyc\u001b[0m in \u001b[0;36m__init__\u001b[0;34m(self, markup, features, builder, parse_only, from_encoding, **kwargs)\u001b[0m\n\u001b[1;32m    159\u001b[0m \u001b[0;34m\u001b[0m\u001b[0m\n\u001b[1;32m    160\u001b[0m         \u001b[0;32mif\u001b[0m \u001b[0mhasattr\u001b[0m\u001b[0;34m(\u001b[0m\u001b[0mmarkup\u001b[0m\u001b[0;34m,\u001b[0m \u001b[0;34m'read'\u001b[0m\u001b[0;34m)\u001b[0m\u001b[0;34m:\u001b[0m        \u001b[0;31m# It's a file-type object.\u001b[0m\u001b[0;34m\u001b[0m\u001b[0m\n\u001b[0;32m--> 161\u001b[0;31m             \u001b[0mmarkup\u001b[0m \u001b[0;34m=\u001b[0m \u001b[0mmarkup\u001b[0m\u001b[0;34m.\u001b[0m\u001b[0mread\u001b[0m\u001b[0;34m(\u001b[0m\u001b[0;34m)\u001b[0m\u001b[0;34m\u001b[0m\u001b[0m\n\u001b[0m\u001b[1;32m    162\u001b[0m         \u001b[0;32melif\u001b[0m \u001b[0mlen\u001b[0m\u001b[0;34m(\u001b[0m\u001b[0mmarkup\u001b[0m\u001b[0;34m)\u001b[0m \u001b[0;34m<=\u001b[0m \u001b[0;36m256\u001b[0m\u001b[0;34m:\u001b[0m\u001b[0;34m\u001b[0m\u001b[0m\n\u001b[1;32m    163\u001b[0m             \u001b[0;31m# Print out warnings for a couple beginner problems\u001b[0m\u001b[0;34m\u001b[0m\u001b[0;34m\u001b[0m\u001b[0m\n",
        "\u001b[0;31mTypeError\u001b[0m: 'NoneType' object is not callable"
       ]
      }
     ],
     "prompt_number": 3
    },
    {
     "cell_type": "code",
     "collapsed": false,
     "input": [
      "print set(v1) & set(v2)"
     ],
     "language": "python",
     "metadata": {},
     "outputs": [
      {
       "ename": "NameError",
       "evalue": "name 'v1' is not defined",
       "output_type": "pyerr",
       "traceback": [
        "\u001b[0;31m---------------------------------------------------------------------------\u001b[0m\n\u001b[0;31mNameError\u001b[0m                                 Traceback (most recent call last)",
        "\u001b[0;32m<ipython-input-4-b3a898099cdc>\u001b[0m in \u001b[0;36m<module>\u001b[0;34m()\u001b[0m\n\u001b[0;32m----> 1\u001b[0;31m \u001b[0;32mprint\u001b[0m \u001b[0mset\u001b[0m\u001b[0;34m(\u001b[0m\u001b[0mv1\u001b[0m\u001b[0;34m)\u001b[0m \u001b[0;34m&\u001b[0m \u001b[0mset\u001b[0m\u001b[0;34m(\u001b[0m\u001b[0mv2\u001b[0m\u001b[0;34m)\u001b[0m\u001b[0;34m\u001b[0m\u001b[0m\n\u001b[0m",
        "\u001b[0;31mNameError\u001b[0m: name 'v1' is not defined"
       ]
      }
     ],
     "prompt_number": 4
    },
    {
     "cell_type": "code",
     "collapsed": false,
     "input": [
      "# term frequency test\n",
      "fq = nltk.FreqDist(v1)\n",
      "mf = float(max(fq.values()))\n",
      "tf = [ (key, .5*((.5*value)/mf)) for key, value in fq.items() ]\n",
      "print tf"
     ],
     "language": "python",
     "metadata": {},
     "outputs": [
      {
       "ename": "NameError",
       "evalue": "name 'v1' is not defined",
       "output_type": "pyerr",
       "traceback": [
        "\u001b[0;31m---------------------------------------------------------------------------\u001b[0m\n\u001b[0;31mNameError\u001b[0m                                 Traceback (most recent call last)",
        "\u001b[0;32m<ipython-input-5-90178c77ff03>\u001b[0m in \u001b[0;36m<module>\u001b[0;34m()\u001b[0m\n\u001b[1;32m      1\u001b[0m \u001b[0;31m# term frequency test\u001b[0m\u001b[0;34m\u001b[0m\u001b[0;34m\u001b[0m\u001b[0m\n\u001b[0;32m----> 2\u001b[0;31m \u001b[0mfq\u001b[0m \u001b[0;34m=\u001b[0m \u001b[0mnltk\u001b[0m\u001b[0;34m.\u001b[0m\u001b[0mFreqDist\u001b[0m\u001b[0;34m(\u001b[0m\u001b[0mv1\u001b[0m\u001b[0;34m)\u001b[0m\u001b[0;34m\u001b[0m\u001b[0m\n\u001b[0m\u001b[1;32m      3\u001b[0m \u001b[0mmf\u001b[0m \u001b[0;34m=\u001b[0m \u001b[0mfloat\u001b[0m\u001b[0;34m(\u001b[0m\u001b[0mmax\u001b[0m\u001b[0;34m(\u001b[0m\u001b[0mfq\u001b[0m\u001b[0;34m.\u001b[0m\u001b[0mvalues\u001b[0m\u001b[0;34m(\u001b[0m\u001b[0;34m)\u001b[0m\u001b[0;34m)\u001b[0m\u001b[0;34m)\u001b[0m\u001b[0;34m\u001b[0m\u001b[0m\n\u001b[1;32m      4\u001b[0m \u001b[0mtf\u001b[0m \u001b[0;34m=\u001b[0m \u001b[0;34m[\u001b[0m \u001b[0;34m(\u001b[0m\u001b[0mkey\u001b[0m\u001b[0;34m,\u001b[0m \u001b[0;36m.5\u001b[0m\u001b[0;34m*\u001b[0m\u001b[0;34m(\u001b[0m\u001b[0;34m(\u001b[0m\u001b[0;36m.5\u001b[0m\u001b[0;34m*\u001b[0m\u001b[0mvalue\u001b[0m\u001b[0;34m)\u001b[0m\u001b[0;34m/\u001b[0m\u001b[0mmf\u001b[0m\u001b[0;34m)\u001b[0m\u001b[0;34m)\u001b[0m \u001b[0;32mfor\u001b[0m \u001b[0mkey\u001b[0m\u001b[0;34m,\u001b[0m \u001b[0mvalue\u001b[0m \u001b[0;32min\u001b[0m \u001b[0mfq\u001b[0m\u001b[0;34m.\u001b[0m\u001b[0mitems\u001b[0m\u001b[0;34m(\u001b[0m\u001b[0;34m)\u001b[0m \u001b[0;34m]\u001b[0m\u001b[0;34m\u001b[0m\u001b[0m\n\u001b[1;32m      5\u001b[0m \u001b[0;32mprint\u001b[0m \u001b[0mtf\u001b[0m\u001b[0;34m\u001b[0m\u001b[0m\n",
        "\u001b[0;31mNameError\u001b[0m: name 'v1' is not defined"
       ]
      }
     ],
     "prompt_number": 5
    },
    {
     "cell_type": "code",
     "collapsed": false,
     "input": [
      "# inverse document frequency test\n",
      "index = {'t1':['d1', 'd2', 'd3'], 't2':['d1'] }\n",
      "N = float(len(set([ v for vals in index.values() for v in vals]))) # get total number of docs in index\n",
      "idfs = [ ( term , log(N / (1 + len(term_docs)) ) ) for (term, term_docs) in index.items() ] # calculate the idf for each term\n",
      "print idfs"
     ],
     "language": "python",
     "metadata": {},
     "outputs": [
      {
       "output_type": "stream",
       "stream": "stdout",
       "text": [
        "[('t2', 0.40546510810816438), ('t1', -0.2876820724517809)]\n"
       ]
      }
     ],
     "prompt_number": 6
    },
    {
     "cell_type": "code",
     "collapsed": false,
     "input": [
      "import os"
     ],
     "language": "python",
     "metadata": {},
     "outputs": [],
     "prompt_number": 7
    },
    {
     "cell_type": "code",
     "collapsed": false,
     "input": [
      "#print os.listdir('data')\n",
      "data_dirs = ['data/buffalo/']\n",
      "data_files = []\n",
      "for d in data_dirs:\n",
      "    data_files += [ d+f[:-8] for f in os.listdir(d) if f[-8:] =='_content' ]\n",
      "print data_files"
     ],
     "language": "python",
     "metadata": {},
     "outputs": [
      {
       "output_type": "stream",
       "stream": "stdout",
       "text": [
        "['data/buffalo/0050169d133fe4d7c6f4a42684303783', 'data/buffalo/008c495d66ad313def39d1eb1f02622a', 'data/buffalo/00ac116b3af604d3d79dc5a6894852cf', 'data/buffalo/0113e813d6db3bd9b5403e8cba5199b8', 'data/buffalo/01161d9ab131fb5cb66699859f714e60', 'data/buffalo/0166643c2065aeb0da17b30060758ff2', 'data/buffalo/018fdbbc66ae4abe370461c4841c5be5', 'data/buffalo/023c50c05a2b6fe87f9e71fae246abaa', 'data/buffalo/034337a3bf70fddda3f30aa60c226a31', 'data/buffalo/048c363c67f069d86af71382da065a87', 'data/buffalo/04b7dc8703ff05f4881b647c610ab8bc', 'data/buffalo/04fd4d329d3f8de66c90fdb002629f96', 'data/buffalo/056b0c3bfe32ad0b86d7433b665690e7', 'data/buffalo/06f4e49df20973144026d929bc346501', 'data/buffalo/0860dc5324922eef579ed6a8077a5388', 'data/buffalo/086944d8eab50d393ec921e087c86477', 'data/buffalo/08db2e15187bd301786908468ffbb8dc', 'data/buffalo/0940e33653bc1668dfae8f7beba108ff', 'data/buffalo/09e90615278b2705f0c21920c40a91d8', 'data/buffalo/0b12f67afed8f12deebfe5f8bfc00288', 'data/buffalo/0b3440dda8ffcc55ec0e9b4360295fb2', 'data/buffalo/0be237144f00e5bfdadf1a5212d2da94', 'data/buffalo/0bf91ebb666d3d849ad9c41cd23244b1', 'data/buffalo/0c2497d2c0dee1d8cb606b1a9e11ea6e', 'data/buffalo/0c75dfefc79999babb818fe849f651e9', 'data/buffalo/0cb8e240cb8ae295f9153f3a5bd26570', 'data/buffalo/0cd93e1f08bc726218f701ce70cb853e', 'data/buffalo/0d5ae28bf510bd7bb91941f0a3cdaaf5', 'data/buffalo/0d5e67257391f36b717c97770c49d1ec', 'data/buffalo/0d79d195aac0e427f4475b36994f8379', 'data/buffalo/10941899552260422b4d7e8f90ad2e75', 'data/buffalo/10d28bf3b1a479f2442361f45dbd99bd', 'data/buffalo/10ec1edbda1a367601a3b9261da70238', 'data/buffalo/11271998ba5cc3a57b9b86a702def23e', 'data/buffalo/12ee28ecc10e55b07c2368bab06e24f1', 'data/buffalo/134a0d0334efd3db6b8c240581a8e463', 'data/buffalo/13524a2afb72c9ad4d1e63d8c0e56ce8', 'data/buffalo/136d6afe66fe8dee09adafcad83b0145', 'data/buffalo/13bac6e6809d7d2f8e4c4eae47fd4462', 'data/buffalo/148361742685a5bc48363f0dc1010f7b', 'data/buffalo/14b685760c79335735774024955883df', 'data/buffalo/1593e276b8ea188ef8fa74ca5c07df36', 'data/buffalo/161f18617ff406f15c15091eea5fc014', 'data/buffalo/1651c55b2a6663e62ab0b8c550bd2605', 'data/buffalo/17cf14e8978def277c3c3e85d2a1129a', 'data/buffalo/17e4f61ef1bf0a63fc6e470bc6da766d', 'data/buffalo/187e6e30c129bee1f51900898ea96afd', 'data/buffalo/189df0728dfdefebef880d6eb04f40ff', 'data/buffalo/19695e22113c2f62809dc6b51cc4b8ff', 'data/buffalo/1b4f405ce4bde31b9211d2875fa7486a', 'data/buffalo/1bae440fe118570df49b2d651b3d1a24', 'data/buffalo/1cb8a8f2d630c2b910058b3559e2217a', 'data/buffalo/1ed1942345188425e2a056b73a3c0d9d', 'data/buffalo/1ee568a04cd4528843508d6ddd9f19fe', 'data/buffalo/1f0de88a5e1562ce9d56f86d54df9c52', 'data/buffalo/1f24e6cd4f2f77bb520546265b987eb0', 'data/buffalo/1f7e7118bbfac01314485df5206ab5d7', 'data/buffalo/1fa0da79be312da3051ccc696e3349ee', 'data/buffalo/1fdafc8dae15e1cee4d3d8a2d45b4190', 'data/buffalo/20850f4815bf1e48d6a0004974915bd3', 'data/buffalo/20fa3f904674b5c17373c17d3cfe50d8', 'data/buffalo/210198acd217e2ecabc63c4ae75e1195', 'data/buffalo/220a707efaa051f9bac92e31899367da', 'data/buffalo/227a231b254a0be1781c684184cd0a92', 'data/buffalo/22b59073710b264cfc9fa46f94c3e8a9', 'data/buffalo/24f521cacd26c1d709b7f9e61a414ac1', 'data/buffalo/24fa66edb3e2451d7ae11b0642294364', 'data/buffalo/26b8854b0bb23a79d2d48aa6a3d07fc8', 'data/buffalo/274ee0a37f6839dd92613cc32377f64f', 'data/buffalo/28f867fc89d9e1eefff139ec928b974a', 'data/buffalo/29bdcff0a122b01225ea995b38e8b8a5', 'data/buffalo/29e0e269b37c9b9e5fd52691fbd66abb', 'data/buffalo/29e9afb280e21da98dc421951b53f4d2', 'data/buffalo/2a3db8a73ddf2ae2df3f0c3cd0edb373', 'data/buffalo/2af869f3efa49fb2f99c3c6af60ad6a0', 'data/buffalo/2b37272c60c046a143cb76b0d2392fef', 'data/buffalo/2bdfe581bbfb76f331454a27df107927', 'data/buffalo/2cd30bce266be44d576bec7cec2b73ed', 'data/buffalo/2eba257dc98bd678007e9219da8c3b63', 'data/buffalo/2ed890094c4a9c31a21aae47721f825f', 'data/buffalo/2f0ace957fc31ce550d3173fc46027ad', 'data/buffalo/2f444c99efb9e3cbe94709e2aa37742c', 'data/buffalo/2fd14107cd4506e8a6e4b13b9fdebc8d', 'data/buffalo/2fd1b3ed6971ac3f8bb8f59d2f9fa60a', 'data/buffalo/3037eb1d6e352161f85d586d57ed23da', 'data/buffalo/305401d487a10d55eeb9d42d827a0c47', 'data/buffalo/30817a19634581ca2e5a7c2116b330a7', 'data/buffalo/30b71adf02ddeb3c03801a14ebba4937', 'data/buffalo/30ccbbf91468a03a2fc1ff9dbc373053', 'data/buffalo/3132fe6ae603dc385fb8657177f18f9c', 'data/buffalo/3133611c4ac88adc8b580ae808c26e7a', 'data/buffalo/318d24b65838a675a6fd3c06dafe45de', 'data/buffalo/32bd9383bf18097a154967d35103eea8', 'data/buffalo/337c0b00e9b3b4806d9319145d843417', 'data/buffalo/347b2c3453d443084b17e207e0c09e16', 'data/buffalo/3702b9c6c386938a2beb82ac7b942775', 'data/buffalo/37a66348f9aa7171251575cf1d325aa9', 'data/buffalo/37bf3a3cc759b08bc3f35db32d54786f', 'data/buffalo/38b461ac31a39fe3797818e0146fe7c2', 'data/buffalo/390480d30a75ab9b3399c77e3c30575d', 'data/buffalo/392f4c32721cc0ec94d11cd6169214d1', 'data/buffalo/39c1f77bb0e4f000080812f25550bf17', 'data/buffalo/3aac94de84f1b43738f3857affd36d3c', 'data/buffalo/3acbb65d6f88b8ec1ebe054b50e7fc81', 'data/buffalo/3b441c0a0d39f4b7e64616d06617f72e', 'data/buffalo/3b84bd135ea6b0cd4980c7d6dff5a887', 'data/buffalo/3b972d157ced94c457c68c4053941613', 'data/buffalo/3ba965bad45593f3a6d2f6db8208d728', 'data/buffalo/3c3597268312812ff21b07f1ba929050', 'data/buffalo/3eca557b6a6620d0d996b38e3d5dd4b6', 'data/buffalo/3ed3e064d9ea898341ce1dabf85c62e6', 'data/buffalo/3fbc32dd8996f253c962cee7ae6a4628', 'data/buffalo/4043c18fd3f33ad96c61c62798af7871', 'data/buffalo/4351acbd037757f1ecfc907fce0fab0c', 'data/buffalo/43b042d292d0186d2aacf05ccadb174e', 'data/buffalo/4427a4580f1c0e03f9d6fb3310226d77', 'data/buffalo/444dccee344ea63cc5a8514f591afb44', 'data/buffalo/4512a3d6ab4f04c505224e6fc6775d87', 'data/buffalo/453bb0cd16eb63777ef077eb0d7fc214', 'data/buffalo/455cf8122cd19a6e552b2ec7fafa3570', 'data/buffalo/45a0d3fdb4aca4d02dda393eacb492b8', 'data/buffalo/45d963dcc3507dea21c57225134370ab', 'data/buffalo/466e0170de441b85654f4cce65a03a64', 'data/buffalo/4713c55f4144836682703b0ae90ba299', 'data/buffalo/4795cd78b178ab569f881e455fefe6b3', 'data/buffalo/47b3bc596a1eb5c2d0b1bf41819d3a0d', 'data/buffalo/48cb9546e67162c335340f9a57260e1e', 'data/buffalo/48d3edda7fb66fea9a32920c48b5c0d4', 'data/buffalo/499c775a849d7651d7d375cddea2a87d', 'data/buffalo/4a0def4ba3489618e01319f3d75e63bc', 'data/buffalo/4b060559ffabcbcb962fdd0aa37f203f', 'data/buffalo/4bb488cbe7ecae9ef3f94702819b82ec', 'data/buffalo/4c12c30d9d7f5b6418aa33f98e3ac176', 'data/buffalo/4d85fe53cd2cc5943585185705acc6a7', 'data/buffalo/4dd039a63c147d09612f9b26204dd7bf', 'data/buffalo/4e8773d10d2a8868226404673bf4450e', 'data/buffalo/4f6c79e7db37b76516d3fae852053024', 'data/buffalo/4f7fe137ab28b41826e16aeddfc7ac92', 'data/buffalo/4fc3f5fb0b42b0caf832a28119b820d5', 'data/buffalo/4fec41a5df44ed0c90a03e12063efa5d', 'data/buffalo/515a66bc29cb59fadef2ebcf88d6e91c', 'data/buffalo/515d0daa7923855724a5e80255c63ad4', 'data/buffalo/52a3ce7e035a865f772eab2528f88a5e', 'data/buffalo/52ff42c87cd5a25081ff83a07d1828a9', 'data/buffalo/533f593fe032927064b6f7f3fd923016', 'data/buffalo/54a16e8257be7f31f7ba7402c6979159', 'data/buffalo/55146e3ed7f467393964f1f7efc0527d', 'data/buffalo/5542d71f343220ab572cab50b1abc23a', 'data/buffalo/5666acba5b337b4145c479c1b558875a', 'data/buffalo/5683c9a4aa2f549045422b70f20c0068', 'data/buffalo/57cea2cfb9f598d920e90346af2dab51', 'data/buffalo/57f1d109018b187a1fceb5336c1dabfc', 'data/buffalo/57f2b7ffb9e98f8c769d6cb80af5aff7', 'data/buffalo/58ae7fdfb9c56c22eb15f2b330c174a5', 'data/buffalo/58d062158e28ca07f6fa6191ffcce830', 'data/buffalo/58d44c5be7583de066724d7aae04e862', 'data/buffalo/5ac3eefa22800d61ab2c0e53aa0b7843', 'data/buffalo/5ba6cb05b256f4a0dd510a1455ce606a', 'data/buffalo/5beaf980bed17aae836102717bcab853', 'data/buffalo/5ca1808bb8e40d98dfc748d17f32a914', 'data/buffalo/5d26d34b6d4bb4d6bca606ae5dcca83b', 'data/buffalo/5dc4bc410debe9a4a4102f68243f166b', 'data/buffalo/60bd8e1c6f27a05270eefaa8cda8aa0c', 'data/buffalo/62af3ac8e52632478448853745b73ef8', 'data/buffalo/62dd6db47a3ac5b3870065b2aa412689', 'data/buffalo/631c3b62324213bb13d2f18f714a3221', 'data/buffalo/6327b26441a0e48c23024136e566294e', 'data/buffalo/64c82cef68cf9b921741a09f6ebe32f5', 'data/buffalo/65be392abd64b275a0b1897fcde7fd95', 'data/buffalo/65bf0b30b171d5e799f01f85afe44989', 'data/buffalo/65fa9e19d3f8106d84931cd6c0ffeb21', 'data/buffalo/67f65808a8da1e1144f69f3c4c8d2454', 'data/buffalo/68fa7420c17d0d3f15c1e48e81350356', 'data/buffalo/6a037ff442cd70609768414acd48256f', 'data/buffalo/6a0d914fcd6dc694f771b1700f4d0c59', 'data/buffalo/6a43ee955cc0e1588014650e2e40c741', 'data/buffalo/6a4fb26368877012b0eb3a84f3b199e7', 'data/buffalo/6ac8353e5b0213340802dd12f7079a6d', 'data/buffalo/6bc2c6d1bdf0dc1994b97e146f22e688', 'data/buffalo/6c02bc809e0bb47874a6df6615b1f4c4', 'data/buffalo/6c4ab6e9ba06457f9e8fe8e49ab4fd05', 'data/buffalo/6c7d2a90ad35b8ef67bc39fd7a3a586c', 'data/buffalo/6da7043664319ee770590572ae2de6b8', 'data/buffalo/6dc10ac27c0c72ae4e9e48d209daca65', 'data/buffalo/711c6ea7eebe79a276d173a05049059c', 'data/buffalo/71b94151f02dff15051cdac4ed359861', 'data/buffalo/71e6ca9ed1b62a98184fd08dc28433a9', 'data/buffalo/71ea0de8cd5ccd2b3196ea4c4105dbe8', 'data/buffalo/7308ec5eb668939b57f53005ad43236f', 'data/buffalo/73cea613da471f0ebd0048428938259c', 'data/buffalo/73e700fc8e8ba539a967fa7c14fd5364', 'data/buffalo/742174b34d8fca45f1b37cff87f1a4e6', 'data/buffalo/754cd227623d438610d0117c669b2eba', 'data/buffalo/7676591139752713070795c507e177e1', 'data/buffalo/770f2209bf8217362f251c3748062158', 'data/buffalo/777f21e34d3205d14cc0eb9078b566bc', 'data/buffalo/77e8e8fc0857f19daf3539dd214b5fb9', 'data/buffalo/78011aec4bc9a2695e3aa9c3ebbf59e8', 'data/buffalo/78914febaf3014e182e84c486226d926', 'data/buffalo/79324e912cf6882c3ba1c723faf1d551', 'data/buffalo/7cba48cffa87f8411ea5a33f422dd192', 'data/buffalo/7d42300354ea3c9dbe35fdb2b37ae306', 'data/buffalo/7d8274ae546dfe2cdd2b55e96feb5061', 'data/buffalo/7d8cb4f907b16330f80950b9cbfbcfcf', 'data/buffalo/7d9557b7f738483faa6a8a6ebc6bed68', 'data/buffalo/7db90384d19f76601c1b1716543cccda', 'data/buffalo/7de93bfc91056290ee9437c142dead46', 'data/buffalo/7e39c6f311b71f8df90671c3d15183ae', 'data/buffalo/7eb026ab26c28d0d49c2509e2ec9fc1f', 'data/buffalo/7eda4802c6528903e58197590db9b222', 'data/buffalo/7f1cc7faadd2a8c4621b9bd0b16f3161', 'data/buffalo/7f7d7653b56aa13fbb8b18e884275ef5', 'data/buffalo/81a6a5dca1f47850f48ad46c7cc2c917', 'data/buffalo/81ad46c1386eac5fa84c78fe9992cb73', 'data/buffalo/820fe457fb736e3aff6193f039b5a554', 'data/buffalo/82b7a189defa6d07e2cd204dc095de9b', 'data/buffalo/83792a97f2fb049c6b698145c695e80e', 'data/buffalo/84e139ec7cd0bc226263c712cd8f8977', 'data/buffalo/850f4e929f9d6fe486200bf701e65598', 'data/buffalo/867922f7e60febea6f7122f2019eeef7', 'data/buffalo/867d844665c819094d4f25644ed4fb9d', 'data/buffalo/86952d49c841eaa3aaca013713170c70', 'data/buffalo/87cb4ae7d3f9927eea5cef2e9c722337', 'data/buffalo/87cc47a32a29a4029741509a591eb6fa', 'data/buffalo/8af9bf18d792d9d8f19b67cdaafaadff', 'data/buffalo/8ba0d0111e00cf07496e793cda5b1d36', 'data/buffalo/8c5531df8e177c6b6a1d75f9b6043000', 'data/buffalo/8d7039a6378c2e394b48909a6bf2e0a0', 'data/buffalo/8df52daf1d15e5516c53b5f240420350', 'data/buffalo/8ea5cbf9bb5227f758a8842baf5fe96c', 'data/buffalo/8ee98b9f0658d76f1f70ba804941cb3b', 'data/buffalo/900ed2f822258a33887935fb51571ad7', 'data/buffalo/905a4dd8d67174b1c7b7ddb18cdf8c47', 'data/buffalo/90e0942072d4b1288eb2f6c6fc43e6aa', 'data/buffalo/90ec90e0dfb0f9ef1b163b7007c7de4c', 'data/buffalo/91a284629eecd69559c0094540138dc4', 'data/buffalo/92bc0f2a19c40b20930421e248064bd6', 'data/buffalo/92f9b935a4f2863c64bd45d39269ec7c', 'data/buffalo/933b96c1e97551cf1ba477dbb6fc39e6', 'data/buffalo/93618d934b3dc52b31c8ea700438eece', 'data/buffalo/93bf6ace5682429c3d68c9d2c4b4cc6a', 'data/buffalo/9504b217346acde0cf90d8e9713ceacb', 'data/buffalo/9510fad164fa1efe1a939ed0084b9a72', 'data/buffalo/958aee0d11a811f6e827a92ac3393d72', 'data/buffalo/96b34ab7194d92c55c0c39b308c021b0', 'data/buffalo/972725728c1f4293a8c4856b94201aff', 'data/buffalo/9796befc8e4b0ff3d33b660e9921a82e', 'data/buffalo/97a8d7f6eedcc6f3a72e3b770d8f2798', 'data/buffalo/983aaa4f983d4e9e80914d24e4bea05f', 'data/buffalo/9870c3824d161ae38e50b726337bea2e', 'data/buffalo/98916bdb7c2e085b6fdba92a12dea83d', 'data/buffalo/98f1c14e3360b2f0a7203cea0b0017fe', 'data/buffalo/99547f4bb29554f63ddcf1abc1cdd6a3', 'data/buffalo/997be2fc482045bfc36450c95d000a86', 'data/buffalo/998100eb5a807a46a9853d06ee203842', 'data/buffalo/998788c1561557f9d0707c07aa2e8db4', 'data/buffalo/9ac8e02642c06a38bc4825c38359a1a5', 'data/buffalo/9b06a8a50121be319e7eb8fb76c8199f', 'data/buffalo/9de4ed0f051a8b3686b2932d86d30026', 'data/buffalo/9e0a25f5ab4bd189ffea0bbd3555ed3c', 'data/buffalo/9e915a76d4e6e3b29a17998fc9b95a6d', 'data/buffalo/9ebec3b496cc2a113a017d69d876e208', 'data/buffalo/9f02dd6af5d3db5cf6e547f3aee1863f', 'data/buffalo/9fdb8a21458a41cf685a697bef55f629', 'data/buffalo/a056cac4493e9c5f2d1f912ceb730e08', 'data/buffalo/a081e5cb588daa708d2c1d714c770f38', 'data/buffalo/a0f765e7e5f021998154ddc9bfff71da', 'data/buffalo/a14f8b261b2ed2ecc546c352bb7ed20f', 'data/buffalo/a244b607eb0e4be9537755527a853ba8', 'data/buffalo/a246e31e68e0cb74dfc0b4df45abb25f', 'data/buffalo/a442cc55338099099ac9db0a6a3be53b', 'data/buffalo/a44a15e4676f5f5ddf7d48f6e138fbda', 'data/buffalo/a4c417ff482bd1bd693caafdaa7c8d95', 'data/buffalo/a520a58e20e8495b47b7abb8e675b5c0', 'data/buffalo/a5628287fa90e883a0c81c5b83311414', 'data/buffalo/a5e16ce94082df495affc4d6dccc1cd3', 'data/buffalo/a6b104e9a2343b4180c3a78d9fef3882', 'data/buffalo/a6e1811fc8c8519851778785e150f0ce', 'data/buffalo/a79f7ee0bb57c72b1354526afa6bd616', 'data/buffalo/a80f00e26468246dfd9a42d706e64f76', 'data/buffalo/a83e362a9e82329f134f4a8c21f97cc9', 'data/buffalo/a854ca68218e0eb0a92466184688c6be', 'data/buffalo/a8d754a76649e320c84bf84998e783a8', 'data/buffalo/aa970849efbb8f8b9d3b9008ce4a46c7', 'data/buffalo/aba8d7023342290a21ee8071240c1873', 'data/buffalo/ad06128fb908a6be90283d82bce1b2bd', 'data/buffalo/ad8093f6b13df719aee7395cd39cff07', 'data/buffalo/ae066b5771bc67008d04eeda23e36518', 'data/buffalo/ae3e868f26a40f20b7272a05d084e581', 'data/buffalo/ae3f9cbf0b4a4a592e1894bee3705c45', 'data/buffalo/ae70d03a0ece7ae097600da0e6bd821c', 'data/buffalo/b0166d9375892e4a6bddde93058217a3', 'data/buffalo/b149c11c3f1efaac1ff03dc67babdc9e', 'data/buffalo/b1580a28cd4db8cdd65f6881aad1b792', 'data/buffalo/b16a90bf6217e1e6934590675f7baf4d', 'data/buffalo/b19ece7b8d26abbdbfd60984aa72db70', 'data/buffalo/b3d5186f6702398a2e3eb9f25e4bc41a', 'data/buffalo/b3f06b1cb34354ca2d5434162f1a7322', 'data/buffalo/b5009fc3238e1fc90fe8e370c3a18246', 'data/buffalo/b5375671be26049b80c2a5a5f4f02782', 'data/buffalo/b644958397426d1674f87109faa7c689', 'data/buffalo/b653e6dc031ec9f5d6673aec0fab73e8', 'data/buffalo/b922efdb5b6e0f8bf65bab69991376c0', 'data/buffalo/b96bb4cada3df0ed881e95342729c27e', 'data/buffalo/bac33c5fc48c6a06d1cb0deae8adecc0', 'data/buffalo/bae952fabb9a2309fb703c366d177f4b', 'data/buffalo/bb675dc35b90787dc70debf291447441', 'data/buffalo/bc2b050b3bf418627b2bfd2769fce340', 'data/buffalo/bc59f4773d73f4241a76b005fc78f438', 'data/buffalo/bcd6f3f6cfe89c672dccf24cfce40ad8', 'data/buffalo/bd201819457c359c9989e7424a75ae41', 'data/buffalo/bd3337b86dde012f3f2d5aa1800d615f', 'data/buffalo/be94af12b15a606d7051f593402d4886', 'data/buffalo/be99933856c651ca68a9d56020325b8b', 'data/buffalo/bf093d6afc15a49c3e27e44471b5d6b3', 'data/buffalo/c01686458d5fe7f6e12da802fa8189a7', 'data/buffalo/c086011d4b39a2ac0bc2599745943f8f', 'data/buffalo/c0e8e6da7c648f6c87daf85a86659450', 'data/buffalo/c14b11f4946ec6a302646919388b4a1b', 'data/buffalo/c1703c79899f70b11c0fb9648db1c84e', 'data/buffalo/c1c83aba27b76bda1cddf23c0374accd', 'data/buffalo/c3110ade627930a9f48ff2868a61d240', 'data/buffalo/c47f2a1ff71d14f1f2a8bbaef37a4642', 'data/buffalo/c547c1a2c258bb4434995204e89face2', 'data/buffalo/c556931c9d5bd54846b447541d68d030', 'data/buffalo/c59b94c5d6f58520a6000a4b84a8fce8', 'data/buffalo/c609d5d1fc692b40f97cba43e0795a7e', 'data/buffalo/c61bfc2654d15628ea5f396ba91d1fcb', 'data/buffalo/c6567178a5145c6c4260d5368bb95675', 'data/buffalo/c6b683269550b34eb055bcb7f95e132c', 'data/buffalo/c7183bd7d9a79e51060ed3e529541d3a', 'data/buffalo/c73612c4f33b4a7f393e323472a84149', 'data/buffalo/c786710fe9f3266e102d8c93873f297c', 'data/buffalo/c947f2b288728b84d8d16cea6237efa6', 'data/buffalo/c959efa872e8016971e9123fc9045299', 'data/buffalo/ca3e832d9d36ec11793dd5c514f90846', 'data/buffalo/cae1f22cfe0bb5970a488f51e6931495', 'data/buffalo/cba1d033bfb349fcb381f1fff843f08f', 'data/buffalo/cc27113a87768c6ae01f57bce4bcf973', 'data/buffalo/cc39d6f2980f35715f6529e9e1026bbd', 'data/buffalo/cd6a5e5aa61e6ffc73f08f1f47a507e7', 'data/buffalo/cf63420bebe82806b72612a6e1050566', 'data/buffalo/cf8b3b89afd09f14b12a7aca1f05391e', 'data/buffalo/d1d755d744ec237f3c05b6fb9e30e188', 'data/buffalo/d1e5ed78b6c9377e11415bede50a3d97', 'data/buffalo/d21e5491d9b45439f7c5b982867fc22a', 'data/buffalo/d339df2f057caa20ebf10799a1612016', 'data/buffalo/d33e21570a79f387c2230993efd99f9c', 'data/buffalo/d37d43a8f097e5a592e5a941bfa93fd5', 'data/buffalo/d41ec19d68d5ba3c503d88c4933788e8', 'data/buffalo/d46e4ce9aacd0dc886a99799c2ab2581', 'data/buffalo/d583b1b4c5763ba942672ae8d099f775', 'data/buffalo/d65de572899beb424066bcaaeab18d69', 'data/buffalo/d6a36f40e6c86c5e4e5e5116961b41d0', 'data/buffalo/d6e82f6bfbc8e81fc273f12cb6fdabf6', 'data/buffalo/d6f8d292210b74919dbe63674afc9881', 'data/buffalo/d71a24c60f3e2d21806e9bd7187e1239', 'data/buffalo/d74dd058984cb82864e5ad307c31616e', 'data/buffalo/d78463f4802aa70217d80747b381bdd1', 'data/buffalo/d84676f7480de7f029b5606fb840a33d', 'data/buffalo/d8b7a0dba1a5d1bc654058c0e5243d66', 'data/buffalo/d8cff31fd9d26fa9ae3ddae8484185fb', 'data/buffalo/d91c1ea69250e681ae007517464381c8', 'data/buffalo/d9e56081fbbe57891c2eef358f33b529', 'data/buffalo/da148b0ed32d73a9977fdc13b633a8dc', 'data/buffalo/db2e36485a9b8273a29ac5560d6090d0', 'data/buffalo/dc2314a08f092a3d947bc34ee8d1339f', 'data/buffalo/dd20e9dc2eaf5679490d5b74676d144b', 'data/buffalo/de44b3321a37f8bed133c467e8d6b6a0', 'data/buffalo/de807a3db71678ad325f8553dbced612', 'data/buffalo/df0dd60fd50f63de3ab98c634f125b99', 'data/buffalo/df8f72dd207cf7b4bc66d929e1c402af', 'data/buffalo/dfa3883e5b077e21bdf7b197f22970cc', 'data/buffalo/e00a006037f907994c869254d7df26c4', 'data/buffalo/e1189828a8a0964b6f7eb047a52a6f1e', 'data/buffalo/e18c9bdafaa343569e1bc05ec94569de', 'data/buffalo/e1c7ca629f6d63d2a06afd8b9ae9a646', 'data/buffalo/e2d3e36ff72f6611650248500031f3e8', 'data/buffalo/e37b5ecd7167789289f5bd80e18a07ab', 'data/buffalo/e4f97bd59a5130097f28093583e0d7b6', 'data/buffalo/e50f831da1d4c2bbf48a49669f5cbed1', 'data/buffalo/e556002e89c8316b33e2cbe5f46eb4ca', 'data/buffalo/e56a8544ff2805367bc2d17dcb0157b6', 'data/buffalo/e56f93ca5af122d124f8aef5ce58b504', 'data/buffalo/e665d816a748e86d5de6fec5bfe4a547', 'data/buffalo/e74283d08b777ad94ebfea5f6ac86df1', 'data/buffalo/e9fb1afc8b36e15efb515fd4cd4c68da', 'data/buffalo/ea26870e421e08cc19e632dd5964a476', 'data/buffalo/ead383967010c45091effe24bb8b5364', 'data/buffalo/ebab44fcb19308e770f78b67ba23a156', 'data/buffalo/ef97b16bf39d4e2be68d7f6448a64774', 'data/buffalo/f0d9412cf5e9b33d55cea5d7a32ac2fb', 'data/buffalo/f19b4633bb19ffcfcf61915de08fc45d', 'data/buffalo/f26a804449bb04feca0ff6c0ae4b5799', 'data/buffalo/f43a6b3fae5eed31b098e028731a081f', 'data/buffalo/f4cf252e10f2c3483e9d118aa8688138', 'data/buffalo/f64a5b38e9babc6cef0e268d0ced5b87', 'data/buffalo/f785d79e3e5ae4da4802edc9ba87e569', 'data/buffalo/f82f031fe2e415a9f2899886a76cbd6f', 'data/buffalo/f93c8f16b4663a9dd4f3399c2284c043', 'data/buffalo/f97c7d1dd3bc7951aca283f4f2ad68a1', 'data/buffalo/fa0b24638905e0d7d681ec5eab1e47c9', 'data/buffalo/fc02f49e7ce8e7b692e06ecaa616efca', 'data/buffalo/fc49d4087e75b457ca297d2a4797a288', 'data/buffalo/fd852acb1bb086797a5027efdd12d275', 'data/buffalo/fdb9f60a72c00b229f8d91af859f6918', 'data/buffalo/fdff9510818fbcb6354743722a52690e', 'data/buffalo/fea3887c919fb2aab6f5f1ab07a8bd68', 'data/buffalo/ff66fc5934ef185cfedb8a308f133766', 'data/buffalo/ff6ca7c3d7a37551a49dc5434f6245b7', 'data/buffalo/ff903047981b94474ef1550dc1edd2ed', 'data/buffalo/ffc705457e63cbd8ba1672bdf1d3f492', 'data/buffalo/ffda39d887e3345899ea9d13c44a95ff', 'data/buffalo/S_81a6a5dca1f47850f48ad46c7cc2c917', 'data/buffalo/T_1c4f3f834ab50a58d416688c650edb46', 'data/buffalo/T_b7d1e5f6d0506bd1c4c0abd3f4550fd2']\n"
       ]
      }
     ],
     "prompt_number": 8
    },
    {
     "cell_type": "code",
     "collapsed": false,
     "input": [
      "from sklearn.feature_extraction.text import CountVectorizer\n",
      "from sklearn.feature_extraction.text import TfidfTransformer\n",
      "from sklearn.ensemble import RandomForestRegressor\n",
      "from sklearn.svm import SVR\n",
      "from sklearn.pipeline import Pipeline\n",
      "import json"
     ],
     "language": "python",
     "metadata": {},
     "outputs": [],
     "prompt_number": 9
    },
    {
     "cell_type": "code",
     "collapsed": false,
     "input": [
      "# get training data\n",
      "docs = []\n",
      "targets = []\n",
      "for f in data_files[10:20]:\n",
      "    p = open(f+'_content', 'r')\n",
      "    body = json.load(p)['body']\n",
      "    p.close()\n",
      "    docs.append(body)\n",
      "    p = open(f+'_meta', 'r')\n",
      "    relevance = json.load(p)['relevance']\n",
      "    p.close()\n",
      "    targets.append(relevance)\n",
      "doc_train = docs[:8]\n",
      "doc_test = docs[8:]\n",
      "tar_train = targets[:8]\n",
      "tar_test = targets[8:]"
     ],
     "language": "python",
     "metadata": {},
     "outputs": [],
     "prompt_number": 12
    },
    {
     "cell_type": "code",
     "collapsed": false,
     "input": [
      "# setup processing pipeline\n",
      "text_reg = Pipeline([('vect', CountVectorizer(analyzer=featurize)),\n",
      "                      ('tfidf', TfidfTransformer()),\n",
      "                      ('reg', SVR()),\n",
      "])\n",
      "text_reg.fit(doc_train, tar_train)"
     ],
     "language": "python",
     "metadata": {},
     "outputs": [
      {
       "metadata": {},
       "output_type": "pyout",
       "prompt_number": 13,
       "text": [
        "Pipeline(steps=[('vect', CountVectorizer(analyzer=<function featurize at 0x107c13500>, binary=False,\n",
        "        charset=None, charset_error=None, decode_error=u'strict',\n",
        "        dtype=<type 'numpy.int64'>, encoding=u'utf-8', input=u'content',\n",
        "        lowercase=True, max_df=1.0, max_features=None, min_df=1,\n",
        "    ...f', max_iter=-1, probability=False, random_state=None,\n",
        "  shrinking=True, tol=0.001, verbose=False))])"
       ]
      }
     ],
     "prompt_number": 13
    },
    {
     "cell_type": "code",
     "collapsed": false,
     "input": [
      "predicted = text_reg.predict(doc_test)\n",
      "print zip(predicted, tar_test)"
     ],
     "language": "python",
     "metadata": {},
     "outputs": [
      {
       "output_type": "stream",
       "stream": "stdout",
       "text": [
        "[(0.11011204328946868, 0.01), (0.11019030160247902, 0.01)]\n"
       ]
      }
     ],
     "prompt_number": 15
    },
    {
     "cell_type": "code",
     "collapsed": false,
     "input": [],
     "language": "python",
     "metadata": {},
     "outputs": []
    }
   ],
   "metadata": {}
  }
 ]
}